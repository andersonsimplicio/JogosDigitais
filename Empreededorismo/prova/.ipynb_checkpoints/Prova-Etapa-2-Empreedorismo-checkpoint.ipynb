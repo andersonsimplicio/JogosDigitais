{
 "cells": [
  {
   "cell_type": "markdown",
   "id": "46d88742",
   "metadata": {},
   "source": [
    "<div align=\"center\">\n",
    "\n",
    "# Centro Técnico Profissional UNIPAC  \n",
    "## Fundação Presidente Antônio Carlos  \n",
    "\n",
    "---\n",
    "\n",
    "# AVALIAÇÃO DA DISCIPLINA  \n",
    "## Empreendedorismo\n",
    "\n",
    "</div>"
   ]
  },
  {
   "cell_type": "markdown",
   "id": "a6d93485",
   "metadata": {},
   "source": [
    "**Questão:** \n",
    "\n",
    "1) Durante a crise financeira de 2008, muitos empreendedores enfrentaram desafios significativos. Qual das seguintes opções melhor descreve um impacto comum dessa crise para empreendedores?\n",
    "\n",
    "- [ ] a) Acesso facilitado a financiamentos e empréstimos bancários de baixo custo.\n",
    "- [ ] b) Crescimento acelerado das startups de tecnologia devido ao aumento do investimento de capital de risco.\n",
    "- [ ] c) Restrições severas no crédito bancário e aumento das dificuldades para obter financiamento.\n",
    "- [ ] d) Redução drástica da burocracia governamental, facilitando a abertura de novos negócios."
   ]
  },
  {
   "cell_type": "markdown",
   "id": "0db956f6",
   "metadata": {},
   "source": [
    "2) Você é um empreendedor que está analisando o lucro mensal de um produto. A função que descreve o lucro mensal 𝐿(𝑥) em função do preço de venda 𝑥 é dada pela seguinte equação:𝐿(𝑥)=(80−𝑥)⋅(𝑥−20) Onde:\n",
    "- x é o preço de venda em reais.\n",
    "- 𝐿(𝑥)é o lucro mensal em reais.\n",
    "1. Reescreva a função lucro mensal 𝐿(𝑥) na forma padrão 𝑎𝑥²+𝑏𝑥+𝑐\n",
    "2. Determine o valor de 𝑥 que maximiza o lucro mensal usando a fórmula do ponto de máximo.\n",
    "3. Qual é o preço de venda que maximiza o lucro mensal e qual é o lucro correspondente?"
   ]
  },
  {
   "cell_type": "markdown",
   "id": "b7015c6d",
   "metadata": {},
   "source": [
    "3) No documentário \"Capitalismo do Século XXI\", diversos aspectos do sistema capitalista contemporâneo são explorados. Qual das seguintes afirmações reflete uma crítica principal apresentada no documentário?\n",
    "\n",
    "- [ ] a) O documentário aplaude o aumento da regulamentação governamental como uma solução eficaz para todas as desigualdades econômicas.\n",
    "- [ ] b) O documentário destaca como o crescimento do mercado global e a inovação tecnológica têm contribuído para a igualdade econômica entre países desenvolvidos e em desenvolvimento.\n",
    "- [ ] c) O documentário critica a concentração de riqueza nas mãos de uma pequena elite e como isso afeta a desigualdade e a justiça social.\n",
    "- [ ] d) O documentário sugere que as práticas de consumo sustentável e a responsabilidade corporativa são amplamente adotadas por grandes empresas, resolvendo os problemas sociais gerados pelo capitalismo."
   ]
  },
  {
   "cell_type": "markdown",
   "id": "859f1af7",
   "metadata": {},
   "source": [
    "4) A crise imobiliária de 2008 nos EUA teve um impacto significativo na economia global. Qual das seguintes opções descreve corretamente uma das causas principais dessa crise?\n",
    "\n",
    "- [ ] a) Aumento dos preços das propriedades residenciais devido à demanda crescente por imóveis de luxo.\n",
    "- [ ] b) Empréstimos hipotecários de alto risco concedidos a mutuários com baixa capacidade de pagamento, combinados com a alta especulação no mercado imobiliário.\n",
    "- [ ] c) Redução das taxas de juros pelo Federal Reserve para estimular o crescimento econômico e aumentar o acesso ao crédito.\n",
    "- [ ] d) Fortalecimento das regulamentações bancárias que limitaram o volume de empréstimos e aumentaram a segurança financeira dos bancos."
   ]
  },
  {
   "cell_type": "markdown",
   "id": "f471f5c0",
   "metadata": {},
   "source": [
    "5) Como diferentes tipos de inflação podem afetar a estratégia de preços e a gestão financeira de uma empresa?\n",
    "\n",
    "- [ ] a) Inflação de demanda pode levar a um aumento nas vendas de uma empresa, permitindo que ela ajuste seus preços para maximizar os lucros, enquanto a inflação de moeda geralmente não afeta as decisões de preços.\n",
    "- [ ] b) Inflação de custos pode aumentar os custos de produção e forçar a empresa a aumentar seus preços para manter as margens de lucro, enquanto a inflação galopante pode reduzir o poder de compra dos consumidores e aumentar a instabilidade financeira.\n",
    "- [ ] c) Inflação de demanda geralmente causa uma redução nos custos de produção devido ao aumento da eficiência, e a inflação galopante é facilmente controlada com ajustes regulares nos salários.\n",
    "- [ ] d) Inflação de moeda leva a uma estabilidade nos preços dos bens e serviços, enquanto a inflação de custos tem pouco impacto sobre a capacidade da empresa de manter seus preços."
   ]
  }
 ],
 "metadata": {
  "kernelspec": {
   "display_name": "Python 3 (ipykernel)",
   "language": "python",
   "name": "python3"
  },
  "language_info": {
   "codemirror_mode": {
    "name": "ipython",
    "version": 3
   },
   "file_extension": ".py",
   "mimetype": "text/x-python",
   "name": "python",
   "nbconvert_exporter": "python",
   "pygments_lexer": "ipython3",
   "version": "3.10.12"
  }
 },
 "nbformat": 4,
 "nbformat_minor": 5
}
