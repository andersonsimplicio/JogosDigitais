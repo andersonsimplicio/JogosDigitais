{
 "cells": [
  {
   "cell_type": "code",
   "execution_count": 1,
   "id": "05233242",
   "metadata": {
    "scrolled": false
   },
   "outputs": [],
   "source": [
    "import numpy as np\n",
    "import matplotlib as plt"
   ]
  },
  {
   "cell_type": "markdown",
   "id": "20a8815e",
   "metadata": {},
   "source": [
    "### 1. Crie um array de números inteiros de 1 a 10.\n",
    "- Crie um array de números inteiros de 1 a 100.\n",
    "- Encontre a soma de todos os elementos do array.\n",
    "- Calcule a média dos elementos do array.\n",
    "- Multiplique todos os elementos por 2."
   ]
  },
  {
   "cell_type": "markdown",
   "id": "bd76ea72",
   "metadata": {},
   "source": [
    "### 2. Crie uma matriz 3x3 com valores aleatórios entre 0 e 1.\n",
    "- Encontre o determinante da matriz.\n",
    "- Calcule a transposta da matriz.\n",
    "- Encontre os valores máximos e mínimos na matriz."
   ]
  },
  {
   "cell_type": "markdown",
   "id": "1a22324c",
   "metadata": {},
   "source": [
    "### 3. Simule as temperaturas diárias de uma cidade durante um ano (365 dias) usando uma distribuição normal com média de 20°C e desvio padrão de 5°C.\n",
    "- Encontre a temperatura média anual.\n",
    "- Determine quantos dias tiveram temperatura abaixo de 15°C.\n",
    "- Plote um histograma das temperaturas.\n"
   ]
  },
  {
   "cell_type": "markdown",
   "id": "594ff930",
   "metadata": {},
   "source": [
    "### 4. Crie dois arrays tridimensionais (3x3x3) e realize operações entre eles.\n",
    "- Crie dois arrays tridimensionais (3x3x3) e realize operações entre eles.\n",
    "- Some os dois arrays..\n",
    "- Calcule a média de todos os elementos do array resultante."
   ]
  },
  {
   "cell_type": "code",
   "execution_count": null,
   "id": "e0cf274c",
   "metadata": {},
   "outputs": [],
   "source": []
  }
 ],
 "metadata": {
  "kernelspec": {
   "display_name": "Python 3 (ipykernel)",
   "language": "python",
   "name": "python3"
  },
  "language_info": {
   "codemirror_mode": {
    "name": "ipython",
    "version": 3
   },
   "file_extension": ".py",
   "mimetype": "text/x-python",
   "name": "python",
   "nbconvert_exporter": "python",
   "pygments_lexer": "ipython3",
   "version": "3.10.12"
  }
 },
 "nbformat": 4,
 "nbformat_minor": 5
}
