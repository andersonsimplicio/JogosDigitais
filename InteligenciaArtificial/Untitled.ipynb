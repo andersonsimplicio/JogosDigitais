{
 "cells": [
  {
   "cell_type": "code",
   "execution_count": null,
   "id": "d009f41e-31dc-4e15-bbe4-b3c1b814711e",
   "metadata": {},
   "outputs": [],
   "source": []
  }
 ],
 "metadata": {
  "kernelspec": {
   "display_name": "",
   "name": ""
  },
  "language_info": {
   "name": ""
  }
 },
 "nbformat": 4,
 "nbformat_minor": 5
}
