{
 "cells": [
  {
   "cell_type": "markdown",
   "id": "46d88742",
   "metadata": {},
   "source": [
    "<div align=\"center\">\n",
    "\n",
    "# Centro Técnico Profissional UNIPAC  \n",
    "## Fundação Presidente Antônio Carlos  \n",
    "\n",
    "---\n",
    "\n",
    "# AVALIAÇÃO DA DISCIPLINA  \n",
    "## Inteligência Artificial\n",
    "\n",
    "</div>"
   ]
  },
  {
   "cell_type": "markdown",
   "id": "a6d93485",
   "metadata": {},
   "source": [
    "**Questão:** \n",
    "\n",
    "1) Qual das opções abaixo descreve corretamente o conceito de aprendizado descritivo?\n",
    "\n",
    "- [ ] a) O aprendizado descritivo é utilizado para prever o comportamento futuro dos clientes com base em dados históricos.\n",
    "- [ ] b) O aprendizado descritivo visa identificar relações de causa e efeito entre variáveis no conjunto de dados.\n",
    "- [ ] c) O aprendizado descritivo é focado em explorar e entender os dados, revelando padrões, tendências e características fundamentais.\n",
    "- [ ] d) O aprendizado descritivo utiliza técnicas de aprendizado de máquina para classificar novos dados com base em exemplos anteriores."
   ]
  },
  {
   "cell_type": "markdown",
   "id": "0db956f6",
   "metadata": {},
   "source": [
    "2) Qual das opções abaixo descreve corretamente o conceito de aprendizado preditivo?\n",
    "\n",
    "- [ ] a) O aprendizado preditivo se concentra em explorar e entender dados históricos sem fazer previsões sobre o futuro.\n",
    "- [ ] b) O aprendizado preditivo é utilizado para identificar padrões nos dados sem aplicação prática em antecipação de eventos.\n",
    "- [ ] c) O aprendizado preditivo visa antecipar eventos futuros utilizando padrões identificados em dados passados.\n",
    "- [ ] d) O aprendizado preditivo analisa dados para criar um retrato detalhado das características e tendências atuais."
   ]
  },
  {
   "cell_type": "markdown",
   "id": "b7015c6d",
   "metadata": {},
   "source": [
    "3) Qual das opções abaixo descreve corretamente a relação entre a Aprendizagem Supervisionada e a Aprendizagem Preditiva?\n",
    "\n",
    "- [ ] a) A Aprendizagem Supervisionada não está relacionada à previsão, pois é focada exclusivamente na análise descritiva dos dados.\n",
    "- [ ] b) A Aprendizagem Supervisionada utiliza dados não rotulados para treinar modelos que fazem previsões sobre novos dados.\n",
    "- [ ] c) A Aprendizagem Supervisionada utiliza dados rotulados para treinar algoritmos, permitindo que façam previsões precisas sobre novos dados.\n",
    "- [ ] d) A Aprendizagem Supervisionada é utilizada apenas para criar um retrato detalhado dos dados, sem aplicação em previsões futuras."
   ]
  },
  {
   "cell_type": "markdown",
   "id": "859f1af7",
   "metadata": {},
   "source": [
    "4) Qual das seguintes opções descreve corretamente um dos aspectos da qualidade dos dados?\n",
    "\n",
    "- [ ] a) A qualidade dos dados refere-se apenas ao volume de dados disponíveis e não à sua integridade.\n",
    "- [ ] b) A qualidade dos dados é avaliada apenas pela velocidade com que os dados são gerados e processados.\n",
    "- [ ] c) A qualidade dos dados envolve a identificação de erros, duplicatas e lacunas, assegurando que as análises sejam confiáveis e representativas.\n",
    "- [ ] d) A qualidade dos dados é focada exclusivamente na variedade dos formatos e fontes de dados."
   ]
  },
  {
   "cell_type": "markdown",
   "id": "f471f5c0",
   "metadata": {},
   "source": [
    "5) Você tem um conjunto de dados numéricos representado pela lista a seguir:\n",
    "``dados = [12, 15, 14, 10, 18, 20, 16, 14, 19, 13]``\n",
    "\n",
    "Utilizando Python e a biblioteca NumPy, calcule a média dos valores dessa lista. Em seguida, explique por que a média é uma medida apropriada para este conjunto de dados e discuta como valores extremos poderiam afetar a média."
   ]
  },
  {
   "cell_type": "markdown",
   "id": "83fb5836",
   "metadata": {},
   "source": [
    "6) Considere o conjunto de dados a seguir:\n",
    "\n",
    "```dados = [8, 6, 5, 12, 10, 7, 11, 9, 15, 14]```\n",
    "Utilizando Python e a biblioteca NumPy, calcule a variância e o desvio padrão dos valores. Explique o significado de cada uma dessas medidas e como elas ajudam a entender a dispersão dos dados."
   ]
  }
 ],
 "metadata": {
  "kernelspec": {
   "display_name": "Python 3 (ipykernel)",
   "language": "python",
   "name": "python3"
  },
  "language_info": {
   "codemirror_mode": {
    "name": "ipython",
    "version": 3
   },
   "file_extension": ".py",
   "mimetype": "text/x-python",
   "name": "python",
   "nbconvert_exporter": "python",
   "pygments_lexer": "ipython3",
   "version": "3.10.12"
  }
 },
 "nbformat": 4,
 "nbformat_minor": 5
}
