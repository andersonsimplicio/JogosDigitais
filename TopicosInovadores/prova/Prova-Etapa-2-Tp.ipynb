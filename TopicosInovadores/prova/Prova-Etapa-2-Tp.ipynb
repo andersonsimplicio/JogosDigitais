{
 "cells": [
  {
   "cell_type": "markdown",
   "id": "46d88742",
   "metadata": {},
   "source": [
    "<div align=\"center\">\n",
    "\n",
    "# Centro Técnico Profissional UNIPAC  \n",
    "## Fundação Presidente Antônio Carlos  \n",
    "\n",
    "---\n",
    "\n",
    "# AVALIAÇÃO DA DISCIPLINA  \n",
    "## Tópico Inovadores\n",
    "</div>"
   ]
  },
  {
   "cell_type": "markdown",
   "id": "3973c43c",
   "metadata": {},
   "source": [
    "##### Nome:\n",
    "##### Nome:"
   ]
  },
  {
   "cell_type": "markdown",
   "id": "a6d93485",
   "metadata": {},
   "source": [
    "<p style=\"font-size: 18px;\">1) Considere a função 𝑓(𝑛)=5𝑛²+2𝑛+10 Mostre que 𝑓(𝑛) ∈ Θ(𝑛²) demonstrando que existem constantes 𝑐1, 𝑐2 e 𝑛0 tal que:</p>\n",
    "   <p style=\"font-size: 20px; text-align: center;\">0 ≤ 𝑐1⋅𝑛² ≤ 𝑓(𝑛) ≤ 𝑐2 ⋅ 𝑛², ∀𝑛 ≥ 𝑛0</p>\n",
    "<p style=\"font-size: 18px;\">Escreva um código em <strong>Python</strong> que encontre essas constantes 𝑐1, 𝑐2 e 𝑛0.</p>"
   ]
  },
  {
   "cell_type": "markdown",
   "id": "0db956f6",
   "metadata": {},
   "source": [
    "<p style=\"font-size: 18px;\">2) Considere o seguinte código em Python:</p>\n",
    "\n",
    "```\n",
    "def exemplo_funcao(n):\n",
    "    total = 0\n",
    "    # Loop externo\n",
    "    for i in range(n):\n",
    "        # Loop interno\n",
    "        for j in range(n):\n",
    "            total += i * j\n",
    "    return total\n",
    "```\n",
    "<p style=\"font-size: 18px;\">Determine a complexidade de tempo da função exemplo_funcao(n) utilizando a notação Big O.</p>"
   ]
  },
  {
   "cell_type": "markdown",
   "id": "b7015c6d",
   "metadata": {},
   "source": [
    "<p style=\"font-size: 18px;\">3) Considere o seguinte código em Python:</p>\n",
    "\n",
    "```\n",
    "def funcao_exemplo(m, n):\n",
    "    total = 0\n",
    "    # Primeiro loop percorre até m\n",
    "    for i in range(m):\n",
    "        total += i\n",
    "    # Segundo loop percorre até n\n",
    "    for j in range(n):\n",
    "        total += j\n",
    "    # Terceiro loop aninhado percorre até m e n\n",
    "    for i in range(m):\n",
    "        for j in range(n):\n",
    "            total += i * j\n",
    "    return total\n",
    "```\n",
    "<ul><li style=\"font-size: 18px;\">Determine a complexidade de tempo da função funcao_exemplo(m, n) utilizando a notação Big O.</li></ul>"
   ]
  },
  {
   "cell_type": "markdown",
   "id": "859f1af7",
   "metadata": {},
   "source": [
    "4) Considere o seguinte código em Python:\n",
    "```\n",
    "def exemplo_funcao(n):\n",
    "    total = 0\n",
    "    for i in range(1, n + 1):\n",
    "        total += i\n",
    "        for j in range(1, i + 1):\n",
    "            total += j\n",
    "    return total\n",
    "```\n",
    "Qual é a complexidade de tempo do código acima?\n",
    "- [ ] a) O(n)\n",
    "- [ ] b) O(n log n)\n",
    "- [ ] c) O(n²)\n",
    "- [ ] d) O(n³)"
   ]
  },
  {
   "cell_type": "markdown",
   "id": "f471f5c0",
   "metadata": {},
   "source": [
    "5) Considere o seguinte código em Python:\n",
    "```\n",
    "def exemplo_funcao(n):\n",
    "    total = 0\n",
    "    for i in range(1, n + 1):\n",
    "        total += i\n",
    "        for j in range(1, i + 1):\n",
    "            total += j\n",
    "    return total\n",
    "```\n",
    "Qual é a complexidade de tempo do código acima?\n",
    "- [ ] a) O(n)\n",
    "- [ ] b) O(n log n)\n",
    "- [ ] c) O(n+10)\n",
    "- [ ] d) O(10n)"
   ]
  }
 ],
 "metadata": {
  "kernelspec": {
   "display_name": "Python 3 (ipykernel)",
   "language": "python",
   "name": "python3"
  },
  "language_info": {
   "codemirror_mode": {
    "name": "ipython",
    "version": 3
   },
   "file_extension": ".py",
   "mimetype": "text/x-python",
   "name": "python",
   "nbconvert_exporter": "python",
   "pygments_lexer": "ipython3",
   "version": "3.10.12"
  }
 },
 "nbformat": 4,
 "nbformat_minor": 5
}
