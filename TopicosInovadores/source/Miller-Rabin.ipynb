{
 "cells": [
  {
   "cell_type": "code",
   "execution_count": 8,
   "id": "c67be446-dc44-4881-9c67-65cdda1c71f1",
   "metadata": {},
   "outputs": [],
   "source": [
    "import random\n",
    "\n",
    "def miller_rabin(n, k):\n",
    "    \"\"\"Realiza o teste de Miller-Rabin para verificar a primalidade de um número n.\n",
    "\n",
    "    Args:\n",
    "        n (int): O número a ser testado.\n",
    "        k (int): O número de iterações do teste, aumentando a precisão.\n",
    "\n",
    "    Returns:\n",
    "        bool: True se n é provavelmente primo, False se n é composto.\n",
    "    \"\"\"\n",
    "\n",
    "    # Casos triviais\n",
    "    if n <= 1:\n",
    "        return False\n",
    "    if n <= 3:\n",
    "        return True\n",
    "    if n % 2 == 0:\n",
    "        return False\n",
    "\n",
    "    # Escreva n-1 como 2^r * d\n",
    "    r, d = 0, n - 1\n",
    "    while d % 2 == 0:\n",
    "        r += 1\n",
    "        d //= 2\n",
    "\n",
    "    # Teste de primalidade\n",
    "    def check_composite(a, d, n, r):\n",
    "        x = pow(a, d, n)\n",
    "        if x == 1 or x == n - 1:\n",
    "            return False\n",
    "        for _ in range(r - 1):\n",
    "            x = pow(x, 2, n)\n",
    "            if x == n - 1:\n",
    "                return False\n",
    "        return True\n",
    "\n",
    "    # Realiza k iterações do teste\n",
    "    for _ in range(k):\n",
    "        a = random.randint(2, n - 2)\n",
    "        if check_composite(a, d, n, r):\n",
    "            return False\n",
    "\n",
    "    return True"
   ]
  },
  {
   "cell_type": "code",
   "execution_count": 10,
   "id": "e45e6ae7-cc7f-4481-bf58-2c65253c159a",
   "metadata": {},
   "outputs": [
    {
     "name": "stdout",
     "output_type": "stream",
     "text": [
      "561 é composto.\n"
     ]
    }
   ],
   "source": [
    "# Exemplo de uso\n",
    "n = 561  # Número a ser testado\n",
    "k = 200    # Número de iterações do teste\n",
    "if miller_rabin(n, k):\n",
    "    print(f\"{n} é provavelmente primo.\")\n",
    "else:\n",
    "    print(f\"{n} é composto.\")"
   ]
  },
  {
   "cell_type": "code",
   "execution_count": null,
   "id": "20e28250-1edc-4f15-b3ba-16680d7b7b94",
   "metadata": {},
   "outputs": [],
   "source": []
  }
 ],
 "metadata": {
  "kernelspec": {
   "display_name": "Python 3 (ipykernel)",
   "language": "python",
   "name": "python3"
  },
  "language_info": {
   "codemirror_mode": {
    "name": "ipython",
    "version": 3
   },
   "file_extension": ".py",
   "mimetype": "text/x-python",
   "name": "python",
   "nbconvert_exporter": "python",
   "pygments_lexer": "ipython3",
   "version": "3.10.12"
  }
 },
 "nbformat": 4,
 "nbformat_minor": 5
}
